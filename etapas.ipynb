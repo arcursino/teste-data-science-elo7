{
 "cells": [
  {
   "cell_type": "markdown",
   "metadata": {},
   "source": [
    "# Teste Data Science Elo7"
   ]
  },
  {
   "cell_type": "markdown",
   "metadata": {},
   "source": [
    "Quais serão as etapas que você utilizará para resolver o problema. Esse documento deverá conter apenas texto. Procure estruturar bem as suas ideias. Ele servirá de base para entendermos a sua linha de raciocínio. Esse documento pode mudar em função do andamento da sua solução."
   ]
  },
  {
   "cell_type": "markdown",
   "metadata": {},
   "source": [
    "### Etapas para construir um classificador de produtos que recebe um conjunto de características de um produto e retorna a categoria dele."
   ]
  },
  {
   "cell_type": "markdown",
   "metadata": {},
   "source": [
    "1 -  Primeiro checar as informações do dataset:\n",
    "\n",
    "    - importar os módulos padrão(pandas, matplotlib, numpy e seaborn);\n",
    "    - importar dataset;\n",
    "    - data.head(), para visualizar o dataframe;\n",
    "    - data.info(), para obter informações do dataframe;\n",
    "    - data.describe(), para ver um descrição mais detalhada;\n",
    "    \n",
    "\n",
    "2 - Após, será realizada a limpeza dos dados:\n",
    "\n",
    "\n",
    "    - extração de colunas que não serão relevantes para o problema; \n",
    "    - verificar os tipos de dados e reagrupá-las, para facilitar a remoção dos outliers.\n",
    "    - procura de outliers que podem prejudicar as análises.\n",
    "    - verificação dos dados faltantes ou dados NaN;\n",
    "    - inputação de dados (preenchimento dos dados faltantes); \n",
    "    - transformação dos dados categóricos em números;\n",
    "\n",
    "3 - Formulação de questionamentos e Análise exploratória do dataset para respondê-los:\n",
    "\n",
    "    - Qual é meu atributo chave para responder as minhas perguntas?\n",
    "    - Existem correlação entre os atributos?\n",
    "    - Caso encontre a correlação, como é a dispersão entre eles?\n",
    "    - Quais são os meus atributos principais?\n",
    "    - Como os meus atributos se relacionam um com outro? E qual suas distribuições?\n",
    "\n",
    "4 - Modelagem:\n",
    "\n",
    "    - Quais melhores modelos para resolver o meu problema?\n",
    "    - Utilização do framework optuna, para a hiperparâmetrização.\n",
    "    - Através dos resultados do optuna, otimar os parâmetros do modelo preditivo;\n",
    "    - Normalizar/Padronizar os dados e comparar, para verificar se o score aumenta;\n",
    "    - Balanceamento dos dados para verificar se o score aumenta.\n",
    "\n",
    "5 - Validação do modelo:\n",
    "\n",
    "    - Validação Cruzada(a matriz de confusão foi plotada ao longo dos treinamento dos modelos para ter noção de como os dados estavam se comportando).\n",
    "    - RMSE - mean square error(a média do erro ao quadrado, foi sendo calculado ao longo dos treinamento dos modelos para ter noção de como os dados estavam sem comportando).\n",
    "    - Relatório de todos as acurácias e rmse\n",
    "    - Avaliação e Conclusão "
   ]
  },
  {
   "cell_type": "code",
   "execution_count": null,
   "metadata": {},
   "outputs": [],
   "source": []
  }
 ],
 "metadata": {
  "kernelspec": {
   "display_name": "Python 3",
   "language": "python",
   "name": "python3"
  },
  "language_info": {
   "codemirror_mode": {
    "name": "ipython",
    "version": 3
   },
   "file_extension": ".py",
   "mimetype": "text/x-python",
   "name": "python",
   "nbconvert_exporter": "python",
   "pygments_lexer": "ipython3",
   "version": "3.6.12"
  }
 },
 "nbformat": 4,
 "nbformat_minor": 4
}
