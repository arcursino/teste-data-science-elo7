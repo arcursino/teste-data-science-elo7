{
 "cells": [
  {
   "cell_type": "markdown",
   "metadata": {},
   "source": [
    "# Teste Data Science Elo7"
   ]
  },
  {
   "cell_type": "markdown",
   "metadata": {},
   "source": [
    "Quais serão as etapas que você utilizará para resolver o problema. Esse documento deverá conter apenas texto. Procure estruturar bem as suas ideias. Ele servirá de base para entendermos a sua linha de raciocínio. Esse documento pode mudar em função do andamento da sua solução."
   ]
  },
  {
   "cell_type": "markdown",
   "metadata": {},
   "source": [
    "### Etapas para construir um classificador de produtos que recebe um conjunto de características de um produto e retorna a categoria dele."
   ]
  },
  {
   "cell_type": "markdown",
   "metadata": {},
   "source": [
    "1 -  Primeiro checar as informações do dataset:\n",
    "\n",
    "    - data.head(), para visualizar o dataframe;\n",
    "    - data.info(), para obter informações do dataframe;\n",
    "    - data.describe(), para ver um descrição mais detalhada;\n",
    "    \n",
    "\n",
    "2 - Após, será realizao a limpeza dos dados:\n",
    "\n",
    "    - verificação dos dados faltantes ou dados NaN;\n",
    "    - inputação de dados (preenchimento dos dados faltantes);\n",
    "    - extração de colunas que não serão relevantes para o problema;\n",
    "    - procura de outliers que podem prejudicar as análises.\n",
    "\n",
    "3 - Formulação de questionamentos e Análise exploratória do dataset para respondê-los:\n",
    "\n",
    "    - Qual é meu atributo chave para responder as minhas perguntas?\n",
    "    - Existem correlação entre os atributos?\n",
    "    - Caso encontre a correlação, como é a dispersão entre eles?\n",
    "    - Qual é a distribuição dos dados?\n",
    "    - Quantos produtos eu tenho nas categorias?\n",
    "    - Como os meus atributos se relacionam um com outro?\n",
    "    - Quais são os meus atributos principais?\n",
    "\n",
    "4 - Modelagem:\n",
    "\n",
    "    - Quais melhores modelos para resolver o meu problema?\n",
    "    - Utilização do framework optuna, para a hiperparâmetrização.\n",
    "    - Através dos resultados do optuna, otimar os parâmetros do modelo preditivo;\n",
    "    - Normalizar/Padronizar os dados e comparar, para verificar se o score aumenta;\n",
    "    - Balanceamento dos dados para verificar se o score aumenta.\n",
    "\n",
    "5 - Validação do modelo:\n",
    "\n",
    "    - Validação Cruzada."
   ]
  },
  {
   "cell_type": "code",
   "execution_count": null,
   "metadata": {},
   "outputs": [],
   "source": []
  }
 ],
 "metadata": {
  "kernelspec": {
   "display_name": "Python 3",
   "language": "python",
   "name": "python3"
  },
  "language_info": {
   "codemirror_mode": {
    "name": "ipython",
    "version": 3
   },
   "file_extension": ".py",
   "mimetype": "text/x-python",
   "name": "python",
   "nbconvert_exporter": "python",
   "pygments_lexer": "ipython3",
   "version": "3.6.12"
  }
 },
 "nbformat": 4,
 "nbformat_minor": 4
}
